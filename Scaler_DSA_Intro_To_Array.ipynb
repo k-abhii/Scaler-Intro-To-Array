{
 "cells": [
  {
   "cell_type": "markdown",
   "id": "2bf91cbd",
   "metadata": {},
   "source": [
    "Given an array of size N Count the no of elements which have at least one element greater than them."
   ]
  },
  {
   "cell_type": "code",
   "execution_count": 2,
   "id": "3c79482b",
   "metadata": {},
   "outputs": [
    {
     "name": "stdout",
     "output_type": "stream",
     "text": [
      "6\n"
     ]
    }
   ],
   "source": [
    "l=[2,5,1,4,8,0,8,1,3,8]\n",
    "m=[-3,-2,6,8,4,5,1]\n",
    "\n",
    "max=float('-inf')\n",
    "for i in m:\n",
    "#     print(i)\n",
    "    if max<i:\n",
    "        max=i\n",
    "# print(max)\n",
    "count=0\n",
    "for i in m:\n",
    "    if i<max:\n",
    "        count+=1\n",
    "print(count)\n",
    "    "
   ]
  },
  {
   "cell_type": "code",
   "execution_count": 6,
   "id": "4ad22e90",
   "metadata": {},
   "outputs": [
    {
     "data": {
      "text/plain": [
       "7"
      ]
     },
     "execution_count": 6,
     "metadata": {},
     "output_type": "execute_result"
    }
   ],
   "source": [
    "def greater(l):\n",
    "    max_count=0\n",
    "    m=float('-inf')\n",
    "    for i in l:\n",
    "        if i>m:\n",
    "            m=i\n",
    "    for i in l:\n",
    "        if i==m:\n",
    "            max_count+=1\n",
    "    return len(l)-max_count\n",
    "greater(l)\n",
    "    "
   ]
  },
  {
   "cell_type": "code",
   "execution_count": 3,
   "id": "4ce1c8ff",
   "metadata": {},
   "outputs": [
    {
     "name": "stdout",
     "output_type": "stream",
     "text": [
      "7\n"
     ]
    }
   ],
   "source": [
    "def atleast_one_ele_greater(l):\n",
    "    max=float('-inf')\n",
    "    count=0\n",
    "    for i in l:\n",
    "        if i>max:\n",
    "            max=i\n",
    "    for i in l:\n",
    "        if i<max:\n",
    "            count+=1\n",
    "    print(count)\n",
    "atleast_one_ele_greater(l)"
   ]
  },
  {
   "cell_type": "markdown",
   "id": "e079e6a7",
   "metadata": {},
   "source": [
    "Given an array of size N & a no K return true if there exists a pair of a[i] + a[j] =k & i!=j"
   ]
  },
  {
   "cell_type": "code",
   "execution_count": 7,
   "id": "ebde3302",
   "metadata": {},
   "outputs": [
    {
     "data": {
      "text/plain": [
       "True"
      ]
     },
     "execution_count": 7,
     "metadata": {},
     "output_type": "execute_result"
    }
   ],
   "source": [
    "A=[3,-2,1,4,3,6,8] # TRUE-A\n",
    "K=10\n",
    "B=[3,2,6,4]  #FALSE-B\n",
    "L=4\n",
    "C=[3,2,4,2]\n",
    "M=4    #True-C\n",
    "#Brute Force Approach\n",
    "def checksum(A,K):\n",
    "    for i,ele in enumerate(A):\n",
    "        for j,elem in enumerate(A):\n",
    "            if ele+elem ==K and i!=j:\n",
    "                return True\n",
    "    return False\n",
    "checksum(C,M)           "
   ]
  },
  {
   "cell_type": "code",
   "execution_count": 29,
   "id": "935362a4",
   "metadata": {},
   "outputs": [
    {
     "data": {
      "text/plain": [
       "False"
      ]
     },
     "execution_count": 29,
     "metadata": {},
     "output_type": "execute_result"
    }
   ],
   "source": [
    "#optimized Solution\n",
    "# Consider Upper Triangular or Lower triangle\n",
    "# NUMBER OF ITERATIONS REDUCED\n",
    "B=[3,2,6,4]  #FALSE-B\n",
    "L=4\n",
    "def listsum(B,L):\n",
    "    for i in range(len(B)):\n",
    "        for j in range(i+1,len(B)):\n",
    "            if B[i]+B[j] ==L:\n",
    "                return True\n",
    "    return False\n",
    "listsum(B,L)"
   ]
  },
  {
   "cell_type": "code",
   "execution_count": 30,
   "id": "1f20c18d",
   "metadata": {},
   "outputs": [
    {
     "data": {
      "text/plain": [
       "True"
      ]
     },
     "execution_count": 30,
     "metadata": {},
     "output_type": "execute_result"
    }
   ],
   "source": [
    "def listsum(B,L):\n",
    "    for i in range(len(B)):\n",
    "        for j in range(i+1,len(B)):\n",
    "            if B[i]+B[j] ==L:\n",
    "                return True\n",
    "    return False\n",
    "listsum(A,K)"
   ]
  },
  {
   "cell_type": "code",
   "execution_count": 31,
   "id": "231126e8",
   "metadata": {},
   "outputs": [
    {
     "data": {
      "text/plain": [
       "True"
      ]
     },
     "execution_count": 31,
     "metadata": {},
     "output_type": "execute_result"
    }
   ],
   "source": [
    "def listsum(B,L):\n",
    "    for i in range(len(B)):\n",
    "        for j in range(i+1,len(B)):\n",
    "            if B[i]+B[j] ==L:\n",
    "                return True\n",
    "    return False\n",
    "listsum(C,M)"
   ]
  },
  {
   "cell_type": "markdown",
   "id": "c0a3eca9",
   "metadata": {},
   "source": [
    "Question Amazon: Given an array of size N,reverse the array using constant extra space.\n",
    "A:-1,4,7,6,5,-2,12,8,10\n",
    "O/P: 10,8,12,-2,5,6,7,4,-1"
   ]
  },
  {
   "cell_type": "code",
   "execution_count": 32,
   "id": "7818591a",
   "metadata": {},
   "outputs": [],
   "source": [
    "A=[10,8,12,-2,5,6,7,4,-1]\n",
    "B=[1,2,3,4,5,6]\n",
    "C=[1,2,3,4,5,6,7]\n",
    "A.reverse()"
   ]
  },
  {
   "cell_type": "code",
   "execution_count": 33,
   "id": "6bb5cc0b",
   "metadata": {},
   "outputs": [
    {
     "data": {
      "text/plain": [
       "[-1, 4, 7, 6, 5, -2, 12, 8, 10]"
      ]
     },
     "execution_count": 33,
     "metadata": {},
     "output_type": "execute_result"
    }
   ],
   "source": [
    "A"
   ]
  },
  {
   "cell_type": "code",
   "execution_count": 35,
   "id": "cb1ae01f",
   "metadata": {},
   "outputs": [
    {
     "data": {
      "text/plain": [
       "[-1, 4, 7, 6, 5, -2, 12, 8, 10]"
      ]
     },
     "execution_count": 35,
     "metadata": {},
     "output_type": "execute_result"
    }
   ],
   "source": [
    "def myreverse(A,N):\n",
    "    s=0\n",
    "    e=N-1\n",
    "    while(s<e):\n",
    "        temp=A[s]\n",
    "        A[s]=A[e]\n",
    "        A[e]=temp\n",
    "        s+=1\n",
    "        e-=1\n",
    "    return A\n",
    "myreverse(A,9)"
   ]
  },
  {
   "cell_type": "markdown",
   "id": "6a3d443a",
   "metadata": {},
   "source": [
    "Given an array and two indices L and R .\n",
    "Reverse the part of array from L to R."
   ]
  },
  {
   "cell_type": "code",
   "execution_count": 39,
   "id": "684b077e",
   "metadata": {},
   "outputs": [
    {
     "data": {
      "text/plain": [
       "[10, 8, 7, 6, 5, -2, 12, 4, -1]"
      ]
     },
     "execution_count": 39,
     "metadata": {},
     "output_type": "execute_result"
    }
   ],
   "source": [
    "A=[10,8,12,-2,5,6,7,4,-1]\n",
    "def myreverse(A,N,L,R):\n",
    "    s=L\n",
    "    e=R\n",
    "    while(s<e):\n",
    "        temp=A[s]\n",
    "        A[s]=A[e]\n",
    "        A[e]=temp\n",
    "        s+=1\n",
    "        e-=1\n",
    "    return A\n",
    "myreverse(A,9,2,6)\n"
   ]
  },
  {
   "cell_type": "markdown",
   "id": "9846a533",
   "metadata": {},
   "source": [
    "Given an array of size N and a positive integer K such that K<N. Rotate the array in clockwise direction by k times."
   ]
  },
  {
   "cell_type": "code",
   "execution_count": 40,
   "id": "3aaee56c",
   "metadata": {},
   "outputs": [
    {
     "data": {
      "text/plain": [
       "[3, 4, 5, 1, 2]"
      ]
     },
     "execution_count": 40,
     "metadata": {},
     "output_type": "execute_result"
    }
   ],
   "source": [
    "# Without any extra space\n",
    "\n",
    "# k=1-->[5,1,2,3,4]\n",
    "# K=2--->[4,5,1,2,3]\n",
    "#K=3---->[3,4,5,1,2]\n",
    "#K=4--->[2,3,4,5,1]\n",
    "#K=5--->[1,2,3,4,5]\n",
    "#CLOCKWISE-RIGHT TO LEFT\n",
    "# K=K%N\n",
    "#  REVERSE COMPLETE ARRAY -->REVERSE FIRST K ELEMENT--->REVERSE THE REMAINING N-K \n",
    "A=[1,2,3,4,5]\n",
    "K=3\n",
    "def rotate(A,K,N):\n",
    "    K=K%N\n",
    "    #REVERSE COMPLETE ARRAY\n",
    "    myreverse(A,N,0,N-1)\n",
    "    #REVERSE FIRST K ELEMENT\n",
    "    myreverse(A,N,0,(K-1))\n",
    "    #REVERSE THE REMAINING ELEMENT\n",
    "    myreverse(A,N,K,N-1)\n",
    "    return A\n",
    "rotate(A,3,5)"
   ]
  },
  {
   "cell_type": "code",
   "execution_count": 41,
   "id": "619013ec",
   "metadata": {},
   "outputs": [
    {
     "data": {
      "text/plain": [
       "[8, 9, 10, 11, 12, 1, 2, 3, 4, 5, 6, 7]"
      ]
     },
     "execution_count": 41,
     "metadata": {},
     "output_type": "execute_result"
    }
   ],
   "source": [
    "B=[1,2,3,4,5,6,7,8,9,10,11,12]\n",
    "L=5\n",
    "rotate(B,5,12)"
   ]
  },
  {
   "cell_type": "code",
   "execution_count": 42,
   "id": "3342796e",
   "metadata": {},
   "outputs": [
    {
     "data": {
      "text/plain": [
       "[7, 8, 9, 10, 11, 12, 1, 2, 3, 4, 5, 6]"
      ]
     },
     "execution_count": 42,
     "metadata": {},
     "output_type": "execute_result"
    }
   ],
   "source": [
    "rotate(B,1,12)"
   ]
  },
  {
   "cell_type": "code",
   "execution_count": 43,
   "id": "10239f81",
   "metadata": {},
   "outputs": [],
   "source": [
    "B=[1,2,3,4,5,6,7,8,9,10,11,12]"
   ]
  },
  {
   "cell_type": "code",
   "execution_count": 44,
   "id": "26849c84",
   "metadata": {},
   "outputs": [
    {
     "data": {
      "text/plain": [
       "[12, 1, 2, 3, 4, 5, 6, 7, 8, 9, 10, 11]"
      ]
     },
     "execution_count": 44,
     "metadata": {},
     "output_type": "execute_result"
    }
   ],
   "source": [
    "rotate(B,1,12)  # 1ST ROTATION"
   ]
  },
  {
   "cell_type": "code",
   "execution_count": 45,
   "id": "0776a269",
   "metadata": {},
   "outputs": [
    {
     "data": {
      "text/plain": [
       "[11, 12, 1, 2, 3, 4, 5, 6, 7, 8, 9, 10]"
      ]
     },
     "execution_count": 45,
     "metadata": {},
     "output_type": "execute_result"
    }
   ],
   "source": [
    "rotate(B,1,12)  # 2ND ROTATION"
   ]
  },
  {
   "cell_type": "code",
   "execution_count": 46,
   "id": "c66d5609",
   "metadata": {},
   "outputs": [
    {
     "data": {
      "text/plain": [
       "[10, 11, 12, 1, 2, 3, 4, 5, 6, 7, 8, 9]"
      ]
     },
     "execution_count": 46,
     "metadata": {},
     "output_type": "execute_result"
    }
   ],
   "source": [
    "rotate(B,1,12) #3RD ROTATION"
   ]
  },
  {
   "cell_type": "code",
   "execution_count": 47,
   "id": "9407ce4b",
   "metadata": {},
   "outputs": [
    {
     "data": {
      "text/plain": [
       "[9, 10, 11, 12, 1, 2, 3, 4, 5, 6, 7, 8]"
      ]
     },
     "execution_count": 47,
     "metadata": {},
     "output_type": "execute_result"
    }
   ],
   "source": [
    "rotate(B,1,12)  #4TH ROTATION"
   ]
  },
  {
   "cell_type": "code",
   "execution_count": 48,
   "id": "7486d4c4",
   "metadata": {},
   "outputs": [
    {
     "data": {
      "text/plain": [
       "[8, 9, 10, 11, 12, 1, 2, 3, 4, 5, 6, 7]"
      ]
     },
     "execution_count": 48,
     "metadata": {},
     "output_type": "execute_result"
    }
   ],
   "source": [
    "rotate(B,1,12) #5TH ROTATION"
   ]
  },
  {
   "cell_type": "code",
   "execution_count": 49,
   "id": "c4adc291",
   "metadata": {},
   "outputs": [
    {
     "data": {
      "text/plain": [
       "[7, 8, 9, 10, 11, 12, 1, 2, 3, 4, 5, 6]"
      ]
     },
     "execution_count": 49,
     "metadata": {},
     "output_type": "execute_result"
    }
   ],
   "source": [
    "rotate(B,1,12) #6TH ROTATION"
   ]
  },
  {
   "cell_type": "code",
   "execution_count": 50,
   "id": "8225f830",
   "metadata": {},
   "outputs": [
    {
     "data": {
      "text/plain": [
       "[6, 7, 8, 9, 10, 11, 12, 1, 2, 3, 4, 5]"
      ]
     },
     "execution_count": 50,
     "metadata": {},
     "output_type": "execute_result"
    }
   ],
   "source": [
    "rotate(B,1,12) #7TH ROTATION"
   ]
  },
  {
   "cell_type": "code",
   "execution_count": 51,
   "id": "47ce265f",
   "metadata": {},
   "outputs": [
    {
     "data": {
      "text/plain": [
       "[5, 6, 7, 8, 9, 10, 11, 12, 1, 2, 3, 4]"
      ]
     },
     "execution_count": 51,
     "metadata": {},
     "output_type": "execute_result"
    }
   ],
   "source": [
    "rotate(B,1,12)  #8TH ROTATION"
   ]
  },
  {
   "cell_type": "code",
   "execution_count": 52,
   "id": "cb784d95",
   "metadata": {},
   "outputs": [
    {
     "data": {
      "text/plain": [
       "[4, 5, 6, 7, 8, 9, 10, 11, 12, 1, 2, 3]"
      ]
     },
     "execution_count": 52,
     "metadata": {},
     "output_type": "execute_result"
    }
   ],
   "source": [
    "rotate(B,1,12)  #9TH ROTATION"
   ]
  },
  {
   "cell_type": "code",
   "execution_count": 53,
   "id": "7080e873",
   "metadata": {},
   "outputs": [
    {
     "data": {
      "text/plain": [
       "[3, 4, 5, 6, 7, 8, 9, 10, 11, 12, 1, 2]"
      ]
     },
     "execution_count": 53,
     "metadata": {},
     "output_type": "execute_result"
    }
   ],
   "source": [
    "rotate(B,1,12)  #10TH ROTATION"
   ]
  },
  {
   "cell_type": "code",
   "execution_count": 54,
   "id": "8fa142ac",
   "metadata": {},
   "outputs": [
    {
     "data": {
      "text/plain": [
       "[2, 3, 4, 5, 6, 7, 8, 9, 10, 11, 12, 1]"
      ]
     },
     "execution_count": 54,
     "metadata": {},
     "output_type": "execute_result"
    }
   ],
   "source": [
    "rotate(B,1,12)  #11TH Rotation"
   ]
  },
  {
   "cell_type": "code",
   "execution_count": 55,
   "id": "5014d1fc",
   "metadata": {},
   "outputs": [
    {
     "data": {
      "text/plain": [
       "[1, 2, 3, 4, 5, 6, 7, 8, 9, 10, 11, 12]"
      ]
     },
     "execution_count": 55,
     "metadata": {},
     "output_type": "execute_result"
    }
   ],
   "source": [
    "rotate(B,1,12)  #12th Rotation"
   ]
  },
  {
   "cell_type": "code",
   "execution_count": 56,
   "id": "96a1b701",
   "metadata": {},
   "outputs": [
    {
     "data": {
      "text/plain": [
       "[12, 1, 2, 3, 4, 5, 6, 7, 8, 9, 10, 11]"
      ]
     },
     "execution_count": 56,
     "metadata": {},
     "output_type": "execute_result"
    }
   ],
   "source": [
    "rotate(B,1,12)  # 13th same as 1st"
   ]
  },
  {
   "cell_type": "markdown",
   "id": "a9592e4b",
   "metadata": {},
   "source": [
    "#gfg \n",
    "#Python program to check whether the string is Symmetrical or Palindrome\n",
    "Given a string. the task is to check if the string is symmetrical and palindrome or not. A string is said to be symmetrical if both the halves of the string are the same and a string is said to be a palindrome string if one half of the string is the reverse of the other half or if a string appears same when read forward or backward.\n",
    "\n",
    "Example: \n",
    "\n",
    "Input: khokho\n",
    "Output: \n",
    "The entered string is symmetrical\n",
    "The entered string is not palindrome\n",
    "\n",
    "Input:amaama\n",
    "Output:\n",
    "The entered string is symmetrical\n",
    "The entered string is palindrome"
   ]
  },
  {
   "cell_type": "code",
   "execution_count": 9,
   "id": "411d3471",
   "metadata": {},
   "outputs": [
    {
     "name": "stdout",
     "output_type": "stream",
     "text": [
      "Palindrome String :  amaama\n",
      "It is not Palindrome  Madam\n",
      "It is not Palindrome  khokho\n",
      "Given String is symmetrical :  amaama\n",
      "Given string is not Symmetrical :  Madam\n",
      "Given String is symmetrical :  khokho\n"
     ]
    }
   ],
   "source": [
    "#  In the case of palindrome, a loop is run to the mid of the string and the first and last characters are matched.\n",
    "# If the characters are not similar then the loop breaks and the string is not palindrome \n",
    "# otherwise the string is a palindrome. \n",
    "# In the case of symmetry, if the string length is even then the string is broken into two halves and the loop is run,\n",
    "# checking the characters of the strings of both the half. \n",
    "# If the characters are not similar then the loops break and the string is not symmetrical otherwise the string is symmetrical.\n",
    "# If the string length is odd then the string is broken into two halves in such a way that the middle element is left unchecked,\n",
    "# and the above same step is repeated.\n",
    "def palindrome(a):\n",
    "    mid=(len(a)-1)//2\n",
    "    flag=0\n",
    "    st=0\n",
    "    lst=len(a)-1\n",
    "    while(st<=mid):\n",
    "        if (a[st]==a[lst]):\n",
    "            st+=1\n",
    "            lst-=1\n",
    "        else:\n",
    "            flag=1\n",
    "            break\n",
    "    if(flag==0):\n",
    "        print(\"Palindrome String : \",a)\n",
    "    else:\n",
    "        print(\"It is not Palindrome \",a)\n",
    "palindrome(a=\"amaama\")\n",
    "palindrome(\"Madam\")\n",
    "palindrome(\"khokho\")\n",
    "\n",
    "\n",
    "def symmetry(a):\n",
    "    flag=0\n",
    "    n=len(a)\n",
    "    if n%2:\n",
    "        mid=n//2 +1\n",
    "    else:\n",
    "        mid=n//2\n",
    "    st2=mid\n",
    "    st=0\n",
    "    while(st<mid and st2<n):\n",
    "        if(a[st]==a[st2]):\n",
    "            st+=1\n",
    "            st2+=1\n",
    "        else:\n",
    "            flag=1\n",
    "            break\n",
    "    if(flag==0):\n",
    "        print(\"Given String is symmetrical : \",a)\n",
    "    else:\n",
    "        print(\"Given string is not Symmetrical : \",a)\n",
    "symmetry(a=\"amaama\")\n",
    "symmetry(a=\"Madam\")\n",
    "symmetry(a=\"khokho\")\n"
   ]
  },
  {
   "cell_type": "code",
   "execution_count": 14,
   "id": "fe4b9902",
   "metadata": {},
   "outputs": [
    {
     "name": "stdout",
     "output_type": "stream",
     "text": [
      "Not Symmetrical :  Madam\n",
      "Not Palindrome :  Madam\n",
      "Symmetrical :  amaama\n",
      "Palindrome String :  amaama\n",
      "Symmetrical :  khokho\n",
      "Not Palindrome :  khokho\n",
      "Symmetrical :  papa\n",
      "Not Palindrome :  papa\n"
     ]
    }
   ],
   "source": [
    "# 2ND METHOD --bug for madam\n",
    "s=\"amaama\"\n",
    "def palindrome_symmetry(s):\n",
    "    half=int((len(s))/2)\n",
    "    first=s[:half]\n",
    "    second=s[half:]\n",
    "    #symmetric\n",
    "    if first == second:\n",
    "        print(\"Symmetrical : \",s)\n",
    "    else:\n",
    "        print(\"Not Symmetrical : \",s)\n",
    "    #palindrome string\n",
    "    if first == second[::-1]:\n",
    "        print(\"Palindrome String : \",s)\n",
    "    else:\n",
    "        print(\"Not Palindrome : \",s)\n",
    "palindrome_symmetry(\"Madam\")\n",
    "palindrome_symmetry(\"amaama\")\n",
    "palindrome_symmetry(\"khokho\")\n",
    "palindrome_symmetry(\"papa\")"
   ]
  },
  {
   "cell_type": "code",
   "execution_count": 15,
   "id": "6ffddf99",
   "metadata": {},
   "outputs": [
    {
     "data": {
      "text/plain": [
       "2"
      ]
     },
     "execution_count": 15,
     "metadata": {},
     "output_type": "execute_result"
    }
   ],
   "source": [
    "int(5/2)"
   ]
  },
  {
   "cell_type": "code",
   "execution_count": 19,
   "id": "dffac6a5",
   "metadata": {},
   "outputs": [
    {
     "name": "stdout",
     "output_type": "stream",
     "text": [
      "code practice quiz geeks\n"
     ]
    }
   ],
   "source": [
    "# Reverse the words in the given string program\n",
    "string = \"geeks quiz practice code\"\n",
    "def rev(string):\n",
    "    s=string.split()[::-1]\n",
    "    print(\" \".join(s))\n",
    "rev(string)"
   ]
  },
  {
   "cell_type": "code",
   "execution_count": 30,
   "id": "6c7782c3",
   "metadata": {},
   "outputs": [
    {
     "name": "stdout",
     "output_type": "stream",
     "text": [
      "madam\n"
     ]
    }
   ],
   "source": [
    "string=\"madam\"\n",
    "l=\"\".join(reversed(string))\n",
    "print(l)\n"
   ]
  },
  {
   "cell_type": "markdown",
   "id": "17e5ae11",
   "metadata": {},
   "source": [
    "6 Ways to reverse strting in Python"
   ]
  },
  {
   "cell_type": "code",
   "execution_count": 31,
   "id": "12b78307",
   "metadata": {},
   "outputs": [
    {
     "data": {
      "text/plain": [
       "'skeeGrofskeeG'"
      ]
     },
     "execution_count": 31,
     "metadata": {},
     "output_type": "execute_result"
    }
   ],
   "source": [
    "# Using Extended Slice Method\n",
    "string =\"GeeksforGeeks\"\n",
    "def rev(string):\n",
    "    string = string[::-1]\n",
    "    return string\n",
    "rev(string)"
   ]
  },
  {
   "cell_type": "code",
   "execution_count": 32,
   "id": "a9dd2634",
   "metadata": {},
   "outputs": [
    {
     "data": {
      "text/plain": [
       "'skeeGrofskeeG'"
      ]
     },
     "execution_count": 32,
     "metadata": {},
     "output_type": "execute_result"
    }
   ],
   "source": [
    "# Using for loop\n",
    "string =\"GeeksforGeeks\"\n",
    "def rev_for(string):\n",
    "    str=\"\"\n",
    "    for i in string:\n",
    "        str=i+str\n",
    "    return str\n",
    "rev_for(string)\n",
    "\n",
    "        \n"
   ]
  },
  {
   "cell_type": "code",
   "execution_count": 34,
   "id": "11de7bbb",
   "metadata": {},
   "outputs": [
    {
     "data": {
      "text/plain": [
       "'skeeGrofskeeG'"
      ]
     },
     "execution_count": 34,
     "metadata": {},
     "output_type": "execute_result"
    }
   ],
   "source": [
    "# using Recursion\n",
    "string =\"GeeksforGeeks\"\n",
    "def rev_rec(string):\n",
    "    if len(string)==0:\n",
    "        return string\n",
    "    else:\n",
    "        return rev_rec(string[1:])+string[0]\n",
    "rev_rec(string)"
   ]
  },
  {
   "cell_type": "code",
   "execution_count": 35,
   "id": "c1cbd09d",
   "metadata": {},
   "outputs": [
    {
     "data": {
      "text/plain": [
       "'skeeGrofskeeG'"
      ]
     },
     "execution_count": 35,
     "metadata": {},
     "output_type": "execute_result"
    }
   ],
   "source": [
    "#Using list function call\n",
    "string =\"GeeksforGeeks\"\n",
    "def list_rev_funcall(string):\n",
    "    string = list(string)\n",
    "    string.reverse()\n",
    "    return \"\".join(string)\n",
    "list_rev_funcall(string)\n",
    "\n"
   ]
  },
  {
   "cell_type": "code",
   "execution_count": 36,
   "id": "1a79938f",
   "metadata": {},
   "outputs": [
    {
     "data": {
      "text/plain": [
       "'skeeGrofskeeG'"
      ]
     },
     "execution_count": 36,
     "metadata": {},
     "output_type": "execute_result"
    }
   ],
   "source": [
    "# Using Reversed \n",
    "string =\"GeeksforGeeks\"\n",
    "def rev_reversed(string):\n",
    "    return \"\".join(reversed(string))\n",
    "rev_reversed(string)\n"
   ]
  },
  {
   "cell_type": "code",
   "execution_count": 37,
   "id": "f58ff457",
   "metadata": {},
   "outputs": [
    {
     "data": {
      "text/plain": [
       "'skeeGrofskeeG'"
      ]
     },
     "execution_count": 37,
     "metadata": {},
     "output_type": "execute_result"
    }
   ],
   "source": [
    "# using list comprehension\n",
    "string =\"GeeksforGeeks\"\n",
    "def rev_list_comp(string):\n",
    "    string=[string[i] for i in range(len(string)-1,-1,-1)]\n",
    "    return \"\".join(string)\n",
    "rev_list_comp(string)\n",
    "    "
   ]
  },
  {
   "cell_type": "code",
   "execution_count": 51,
   "id": "24eb4dde",
   "metadata": {},
   "outputs": [
    {
     "name": "stdout",
     "output_type": "stream",
     "text": [
      "GksForGks\n",
      "GeekForGeeks\n"
     ]
    }
   ],
   "source": [
    "# str.replace() can be used to replace all the occurrences of the desired character.\n",
    "# It can also be used to perform the task of character removal from a string as we can replace the particular \n",
    "# index with empty char, and hence solve the issue. \n",
    "\n",
    "# Remove Characters From a String Using replace()\n",
    "\n",
    "test_str = \"GeeksForGeeks\"\n",
    "new_str=test_str.replace('e','')\n",
    "print(new_str)\n",
    "\n",
    "# Removing 1st occurrence of s, i.e 5th pos.\n",
    "# if we wish to remove it.\n",
    "new_str = test_str.replace('s', '', 1)\n",
    "print(new_str)\n",
    "\n",
    "# The major drawback of using replace() is that it fails in cases where there are duplicates in \n",
    "# a string that match the char at pos. i. replace() replaces all the occurrences of a particular character and hence would\n",
    "# replace all the occurrences of all the characters at pos i.\n",
    "# We can still sometimes use this function if the replacing character occurs for 1st time in the string."
   ]
  },
  {
   "cell_type": "code",
   "execution_count": 44,
   "id": "8206c722",
   "metadata": {},
   "outputs": [
    {
     "name": "stdout",
     "output_type": "stream",
     "text": [
      "GeeksForGeeks\n"
     ]
    }
   ],
   "source": [
    "# Remove the Specific Character from the String using Translate()\n",
    "# This method provides a strong mechanism to remove characters from a string. \n",
    "# In this method, we removed 123 from GeeksforGeeks using string.translate(). \n",
    "\n",
    "str = 'Geeks123For123Geeks'\n",
    "  \n",
    "print(str.translate({ord(i): None for i in '123'}))"
   ]
  },
  {
   "cell_type": "code",
   "execution_count": 45,
   "id": "61e6cddd",
   "metadata": {},
   "outputs": [
    {
     "name": "stdout",
     "output_type": "stream",
     "text": [
      "The string after removal of i'th character : GeksForGeeks\n"
     ]
    }
   ],
   "source": [
    "# Remove Letters From a String Using the Native Method\n",
    "# In this method, one just has to run a Python loop and append the characters as they come,\n",
    "# and build a new string from the existing one except when the index is i. \n",
    "\n",
    "test_str = \"GeeksForGeeks\"\n",
    "\n",
    "# Removing char at pos 3\n",
    "new_str = \"\"\n",
    "\n",
    "for i in range(len(test_str)):\n",
    "\tif i != 2:\n",
    "\t\tnew_str = new_str + test_str[i]\n",
    "\n",
    "# Printing string after removal\n",
    "print (\"The string after removal of i'th character : \" + new_str)\n"
   ]
  },
  {
   "cell_type": "code",
   "execution_count": 46,
   "id": "2e9bd53f",
   "metadata": {},
   "outputs": [
    {
     "name": "stdout",
     "output_type": "stream",
     "text": [
      "The string after removal of i'th character : GeksForGeeks\n"
     ]
    }
   ],
   "source": [
    "# Remove the ith Character from the String Using Slice\n",
    "# One can use string slice and slice the string before the pos i, and slice after the pos i. \n",
    "# Then using string concatenation of both, ith character can appear to be deleted from the string. \n",
    "\n",
    "# Initializing String\n",
    "test_str = \"GeeksForGeeks\"\n",
    "\n",
    "# Removing char at pos 3\n",
    "# using slice + concatenation\n",
    "new_str = test_str[:2] + test_str[3:]\n",
    "\n",
    "# Printing string after removal\n",
    "# removes ele. at 3rd index\n",
    "print (\"The string after removal of i'th character : \" + new_str)\n"
   ]
  },
  {
   "cell_type": "code",
   "execution_count": 47,
   "id": "5e3e8224",
   "metadata": {},
   "outputs": [
    {
     "name": "stdout",
     "output_type": "stream",
     "text": [
      "The string after removal of i'th character : GeksForGeeks\n"
     ]
    }
   ],
   "source": [
    "# Remove the ith Character from the String Using str.join()\n",
    "# In this method, each element of a string is first converted as each element of the list, and then each of them is joined \n",
    "# to form a string except the specified index. \n",
    "\n",
    "# Initializing String\n",
    "test_str = \"GeeksForGeeks\"\n",
    "\n",
    "# Removing char at pos 3\n",
    "# using join() + list comprehension\n",
    "new_str = ''.join([test_str[i] for i in range(len(test_str)) if i != 2])\n",
    "\n",
    "# Printing string after removal\n",
    "# removes ele. at 3rd index\n",
    "print (\"The string after removal of i'th character : \" + new_str)\n"
   ]
  },
  {
   "cell_type": "code",
   "execution_count": 48,
   "id": "ed80630d",
   "metadata": {},
   "outputs": [
    {
     "name": "stdout",
     "output_type": "stream",
     "text": [
      "hell world\n"
     ]
    }
   ],
   "source": [
    "# Delete Letters From a String in Python Using bytearray\n",
    "# Define the function remove_char(s, i) that takes a string s and an integer i as input. \n",
    "# And then Convert the input string s to a bytearray using bytearray(s, ‘utf-8’).\n",
    "# Delete the i’th element from the bytearray using del b[i]. \n",
    "# Convert the modified bytearray back to a string using b.decode() and Return the modified string.\n",
    "\n",
    "def remove_char(s, i):\n",
    "\tb = bytearray(s, 'utf-8')\n",
    "\tdel b[i]\n",
    "\treturn b.decode()\n",
    "\n",
    "# Example usage\n",
    "s = \"hello world\"\n",
    "i = 4\n",
    "s = remove_char(s, i)\n",
    "print(s)\n"
   ]
  },
  {
   "cell_type": "code",
   "execution_count": 49,
   "id": "572cc2a1",
   "metadata": {},
   "outputs": [
    {
     "name": "stdout",
     "output_type": "stream",
     "text": [
      "eeksforGeeks\n",
      "GeeksorGeeks\n"
     ]
    }
   ],
   "source": [
    "# Remove Letters From a String Using removeprefix()\n",
    "# removeprefix() removes the prefix and returns the rest of the string. \n",
    "# We can remove letters from a string for any specific index by dividing the string into two halves such that the\n",
    "# letter that we wanted to remove comes in the prefix of any of the two partition and then we can apply the method\n",
    "# to remove the letter.\n",
    "\n",
    "#initializing the string\n",
    "s=\"GeeksforGeeks\"\n",
    "\n",
    "#if you wanted to remove \"G\" of 0th index\n",
    "s1=s.removeprefix(\"G\")\n",
    "\n",
    "#if you wanted to remove \"f\"\n",
    "s2=s[:5]+s[5:].removeprefix(\"f\")\n",
    "\n",
    "print(s1)\n",
    "print(s2)\n"
   ]
  },
  {
   "cell_type": "code",
   "execution_count": 50,
   "id": "7e1537d7",
   "metadata": {},
   "outputs": [
    {
     "name": "stdout",
     "output_type": "stream",
     "text": [
      "The string after removal of ith character: GeksForGeeks\n"
     ]
    }
   ],
   "source": [
    "# Remove the Specific Character from the String Using Recursion\n",
    "# To remove the ith character from a string using recursion, you can define a recursive function\n",
    "# that takes in the string and the index to be removed as arguments. \n",
    "# The function will check if the index is equal to 0, in this case it returns the string with the first character removed.\n",
    "# If the index is not 0, the function can return the first character of the string concatenated with the\n",
    "# result of calling the function again on the string with the index decremented by 1.\n",
    "\n",
    "def remove_ith_character(s, i):\n",
    "\t# Base case: if index is 0, \n",
    "\t# return string with first character removed\n",
    "\tif i == 0:\n",
    "\t\treturn s[1:]\n",
    "\n",
    "\t# Recursive case: return first character \n",
    "\t# concatenated with result of calling function \n",
    "\t# on string with index decremented by 1\n",
    "\treturn s[0] + remove_ith_character(s[1:], i - 1)\n",
    "\n",
    "\n",
    "# Test the function\n",
    "test_str = \"GeeksForGeeks\"\n",
    "new_str = remove_ith_character(test_str, 2)\n",
    "print(\"The string after removal of ith character:\", new_str)\n",
    "\n"
   ]
  },
  {
   "cell_type": "code",
   "execution_count": null,
   "id": "646692b3",
   "metadata": {},
   "outputs": [],
   "source": []
  }
 ],
 "metadata": {
  "kernelspec": {
   "display_name": "Python 3 (ipykernel)",
   "language": "python",
   "name": "python3"
  },
  "language_info": {
   "codemirror_mode": {
    "name": "ipython",
    "version": 3
   },
   "file_extension": ".py",
   "mimetype": "text/x-python",
   "name": "python",
   "nbconvert_exporter": "python",
   "pygments_lexer": "ipython3",
   "version": "3.10.6"
  }
 },
 "nbformat": 4,
 "nbformat_minor": 5
}
