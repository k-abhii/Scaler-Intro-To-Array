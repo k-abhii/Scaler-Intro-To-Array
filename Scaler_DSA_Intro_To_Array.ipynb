{
 "cells": [
  {
   "cell_type": "markdown",
   "id": "2bf91cbd",
   "metadata": {},
   "source": [
    "Given an array of size N Count the no of elements which have at least one element greater than them."
   ]
  },
  {
   "cell_type": "code",
   "execution_count": 2,
   "id": "3c79482b",
   "metadata": {},
   "outputs": [
    {
     "name": "stdout",
     "output_type": "stream",
     "text": [
      "6\n"
     ]
    }
   ],
   "source": [
    "l=[2,5,1,4,8,0,8,1,3,8]\n",
    "m=[-3,-2,6,8,4,5,1]\n",
    "\n",
    "max=float('-inf')\n",
    "for i in m:\n",
    "#     print(i)\n",
    "    if max<i:\n",
    "        max=i\n",
    "# print(max)\n",
    "count=0\n",
    "for i in m:\n",
    "    if i<max:\n",
    "        count+=1\n",
    "print(count)\n",
    "    "
   ]
  },
  {
   "cell_type": "code",
   "execution_count": 6,
   "id": "4ad22e90",
   "metadata": {},
   "outputs": [
    {
     "data": {
      "text/plain": [
       "7"
      ]
     },
     "execution_count": 6,
     "metadata": {},
     "output_type": "execute_result"
    }
   ],
   "source": [
    "def greater(l):\n",
    "    max_count=0\n",
    "    m=float('-inf')\n",
    "    for i in l:\n",
    "        if i>m:\n",
    "            m=i\n",
    "    for i in l:\n",
    "        if i==m:\n",
    "            max_count+=1\n",
    "    return len(l)-max_count\n",
    "greater(l)\n",
    "    "
   ]
  },
  {
   "cell_type": "code",
   "execution_count": 3,
   "id": "4ce1c8ff",
   "metadata": {},
   "outputs": [
    {
     "name": "stdout",
     "output_type": "stream",
     "text": [
      "7\n"
     ]
    }
   ],
   "source": [
    "def atleast_one_ele_greater(l):\n",
    "    max=float('-inf')\n",
    "    count=0\n",
    "    for i in l:\n",
    "        if i>max:\n",
    "            max=i\n",
    "    for i in l:\n",
    "        if i<max:\n",
    "            count+=1\n",
    "    print(count)\n",
    "atleast_one_ele_greater(l)"
   ]
  },
  {
   "cell_type": "markdown",
   "id": "e079e6a7",
   "metadata": {},
   "source": [
    "Given an array of size N & a no K return true if there exists a pair of a[i] + a[j] =k & i!=j"
   ]
  },
  {
   "cell_type": "code",
   "execution_count": 7,
   "id": "ebde3302",
   "metadata": {},
   "outputs": [
    {
     "data": {
      "text/plain": [
       "True"
      ]
     },
     "execution_count": 7,
     "metadata": {},
     "output_type": "execute_result"
    }
   ],
   "source": [
    "A=[3,-2,1,4,3,6,8] # TRUE-A\n",
    "K=10\n",
    "B=[3,2,6,4]  #FALSE-B\n",
    "L=4\n",
    "C=[3,2,4,2]\n",
    "M=4    #True-C\n",
    "#Brute Force Approach\n",
    "def checksum(A,K):\n",
    "    for i,ele in enumerate(A):\n",
    "        for j,elem in enumerate(A):\n",
    "            if ele+elem ==K and i!=j:\n",
    "                return True\n",
    "    return False\n",
    "checksum(C,M)           "
   ]
  },
  {
   "cell_type": "code",
   "execution_count": 29,
   "id": "935362a4",
   "metadata": {},
   "outputs": [
    {
     "data": {
      "text/plain": [
       "False"
      ]
     },
     "execution_count": 29,
     "metadata": {},
     "output_type": "execute_result"
    }
   ],
   "source": [
    "#optimized Solution\n",
    "# Consider Upper Triangular or Lower triangle\n",
    "# NUMBER OF ITERATIONS REDUCED\n",
    "B=[3,2,6,4]  #FALSE-B\n",
    "L=4\n",
    "def listsum(B,L):\n",
    "    for i in range(len(B)):\n",
    "        for j in range(i+1,len(B)):\n",
    "            if B[i]+B[j] ==L:\n",
    "                return True\n",
    "    return False\n",
    "listsum(B,L)"
   ]
  },
  {
   "cell_type": "code",
   "execution_count": 30,
   "id": "1f20c18d",
   "metadata": {},
   "outputs": [
    {
     "data": {
      "text/plain": [
       "True"
      ]
     },
     "execution_count": 30,
     "metadata": {},
     "output_type": "execute_result"
    }
   ],
   "source": [
    "def listsum(B,L):\n",
    "    for i in range(len(B)):\n",
    "        for j in range(i+1,len(B)):\n",
    "            if B[i]+B[j] ==L:\n",
    "                return True\n",
    "    return False\n",
    "listsum(A,K)"
   ]
  },
  {
   "cell_type": "code",
   "execution_count": 31,
   "id": "d8be80ab",
   "metadata": {},
   "outputs": [
    {
     "data": {
      "text/plain": [
       "True"
      ]
     },
     "execution_count": 31,
     "metadata": {},
     "output_type": "execute_result"
    }
   ],
   "source": [
    "def listsum(B,L):\n",
    "    for i in range(len(B)):\n",
    "        for j in range(i+1,len(B)):\n",
    "            if B[i]+B[j] ==L:\n",
    "                return True\n",
    "    return False\n",
    "listsum(C,M)"
   ]
  },
  {
   "cell_type": "markdown",
   "id": "8531931d",
   "metadata": {},
   "source": [
    "Question Amazon: Given an array of size N,reverse the array using constant extra space.\n",
    "A:-1,4,7,6,5,-2,12,8,10\n",
    "O/P: 10,8,12,-2,5,6,7,4,-1"
   ]
  },
  {
   "cell_type": "code",
   "execution_count": 32,
   "id": "052400bb",
   "metadata": {},
   "outputs": [],
   "source": [
    "A=[10,8,12,-2,5,6,7,4,-1]\n",
    "B=[1,2,3,4,5,6]\n",
    "C=[1,2,3,4,5,6,7]\n",
    "A.reverse()"
   ]
  },
  {
   "cell_type": "code",
   "execution_count": 33,
   "id": "5f2c6044",
   "metadata": {},
   "outputs": [
    {
     "data": {
      "text/plain": [
       "[-1, 4, 7, 6, 5, -2, 12, 8, 10]"
      ]
     },
     "execution_count": 33,
     "metadata": {},
     "output_type": "execute_result"
    }
   ],
   "source": [
    "A"
   ]
  },
  {
   "cell_type": "code",
   "execution_count": 35,
   "id": "c2cf133c",
   "metadata": {},
   "outputs": [
    {
     "data": {
      "text/plain": [
       "[-1, 4, 7, 6, 5, -2, 12, 8, 10]"
      ]
     },
     "execution_count": 35,
     "metadata": {},
     "output_type": "execute_result"
    }
   ],
   "source": [
    "def myreverse(A,N):\n",
    "    s=0\n",
    "    e=N-1\n",
    "    while(s<e):\n",
    "        temp=A[s]\n",
    "        A[s]=A[e]\n",
    "        A[e]=temp\n",
    "        s+=1\n",
    "        e-=1\n",
    "    return A\n",
    "myreverse(A,9)"
   ]
  },
  {
   "cell_type": "markdown",
   "id": "fe0b343a",
   "metadata": {},
   "source": [
    "Given an array and two indices L and R .\n",
    "Reverse the part of array from L to R."
   ]
  },
  {
   "cell_type": "code",
   "execution_count": 39,
   "id": "e667f430",
   "metadata": {},
   "outputs": [
    {
     "data": {
      "text/plain": [
       "[10, 8, 7, 6, 5, -2, 12, 4, -1]"
      ]
     },
     "execution_count": 39,
     "metadata": {},
     "output_type": "execute_result"
    }
   ],
   "source": [
    "A=[10,8,12,-2,5,6,7,4,-1]\n",
    "def myreverse(A,N,L,R):\n",
    "    s=L\n",
    "    e=R\n",
    "    while(s<e):\n",
    "        temp=A[s]\n",
    "        A[s]=A[e]\n",
    "        A[e]=temp\n",
    "        s+=1\n",
    "        e-=1\n",
    "    return A\n",
    "myreverse(A,9,2,6)\n"
   ]
  },
  {
   "cell_type": "markdown",
   "id": "629c92d0",
   "metadata": {},
   "source": [
    "Given an array of size N and a positive integer K such that K<N. Rotate the array in clockwise direction by k times."
   ]
  },
  {
   "cell_type": "code",
   "execution_count": 40,
   "id": "4cc8745d",
   "metadata": {},
   "outputs": [
    {
     "data": {
      "text/plain": [
       "[3, 4, 5, 1, 2]"
      ]
     },
     "execution_count": 40,
     "metadata": {},
     "output_type": "execute_result"
    }
   ],
   "source": [
    "# Without any extra space\n",
    "\n",
    "# k=1-->[5,1,2,3,4]\n",
    "# K=2--->[4,5,1,2,3]\n",
    "#K=3---->[3,4,5,1,2]\n",
    "#K=4--->[2,3,4,5,1]\n",
    "#K=5--->[1,2,3,4,5]\n",
    "#CLOCKWISE-RIGHT TO LEFT\n",
    "# K=K%N\n",
    "#  REVERSE COMPLETE ARRAY -->REVERSE FIRST K ELEMENT--->REVERSE THE REMAINING N-K \n",
    "A=[1,2,3,4,5]\n",
    "K=3\n",
    "def rotate(A,K,N):\n",
    "    K=K%N\n",
    "    #REVERSE COMPLETE ARRAY\n",
    "    myreverse(A,N,0,N-1)\n",
    "    #REVERSE FIRST K ELEMENT\n",
    "    myreverse(A,N,0,(K-1))\n",
    "    #REVERSE THE REMAINING ELEMENT\n",
    "    myreverse(A,N,K,N-1)\n",
    "    return A\n",
    "rotate(A,3,5)"
   ]
  },
  {
   "cell_type": "code",
   "execution_count": null,
   "id": "ce37fa96",
   "metadata": {},
   "outputs": [],
   "source": []
  }
 ],
 "metadata": {
  "kernelspec": {
   "display_name": "Python 3 (ipykernel)",
   "language": "python",
   "name": "python3"
  },
  "language_info": {
   "codemirror_mode": {
    "name": "ipython",
    "version": 3
   },
   "file_extension": ".py",
   "mimetype": "text/x-python",
   "name": "python",
   "nbconvert_exporter": "python",
   "pygments_lexer": "ipython3",
   "version": "3.10.6"
  }
 },
 "nbformat": 4,
 "nbformat_minor": 5
}
