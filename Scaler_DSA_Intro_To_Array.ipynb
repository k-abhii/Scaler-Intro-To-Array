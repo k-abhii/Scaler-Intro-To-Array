{
 "cells": [
  {
   "cell_type": "markdown",
   "id": "2bf91cbd",
   "metadata": {},
   "source": [
    "Given an array of size N Count the no of elements which have at least one element greater than them."
   ]
  },
  {
   "cell_type": "code",
   "execution_count": 2,
   "id": "3c79482b",
   "metadata": {},
   "outputs": [
    {
     "name": "stdout",
     "output_type": "stream",
     "text": [
      "6\n"
     ]
    }
   ],
   "source": [
    "l=[2,5,1,4,8,0,8,1,3,8]\n",
    "m=[-3,-2,6,8,4,5,1]\n",
    "\n",
    "max=float('-inf')\n",
    "for i in m:\n",
    "#     print(i)\n",
    "    if max<i:\n",
    "        max=i\n",
    "# print(max)\n",
    "count=0\n",
    "for i in m:\n",
    "    if i<max:\n",
    "        count+=1\n",
    "print(count)\n",
    "    "
   ]
  },
  {
   "cell_type": "code",
   "execution_count": 6,
   "id": "4ad22e90",
   "metadata": {},
   "outputs": [
    {
     "data": {
      "text/plain": [
       "7"
      ]
     },
     "execution_count": 6,
     "metadata": {},
     "output_type": "execute_result"
    }
   ],
   "source": [
    "def greater(l):\n",
    "    max_count=0\n",
    "    m=float('-inf')\n",
    "    for i in l:\n",
    "        if i>m:\n",
    "            m=i\n",
    "    for i in l:\n",
    "        if i==m:\n",
    "            max_count+=1\n",
    "    return len(l)-max_count\n",
    "greater(l)\n",
    "    "
   ]
  },
  {
   "cell_type": "code",
   "execution_count": 3,
   "id": "4ce1c8ff",
   "metadata": {},
   "outputs": [
    {
     "name": "stdout",
     "output_type": "stream",
     "text": [
      "7\n"
     ]
    }
   ],
   "source": [
    "def atleast_one_ele_greater(l):\n",
    "    max=float('-inf')\n",
    "    count=0\n",
    "    for i in l:\n",
    "        if i>max:\n",
    "            max=i\n",
    "    for i in l:\n",
    "        if i<max:\n",
    "            count+=1\n",
    "    print(count)\n",
    "atleast_one_ele_greater(l)"
   ]
  },
  {
   "cell_type": "code",
   "execution_count": null,
   "id": "1c7718cd",
   "metadata": {},
   "outputs": [],
   "source": []
  }
 ],
 "metadata": {
  "kernelspec": {
   "display_name": "Python 3 (ipykernel)",
   "language": "python",
   "name": "python3"
  },
  "language_info": {
   "codemirror_mode": {
    "name": "ipython",
    "version": 3
   },
   "file_extension": ".py",
   "mimetype": "text/x-python",
   "name": "python",
   "nbconvert_exporter": "python",
   "pygments_lexer": "ipython3",
   "version": "3.10.6"
  }
 },
 "nbformat": 4,
 "nbformat_minor": 5
}
